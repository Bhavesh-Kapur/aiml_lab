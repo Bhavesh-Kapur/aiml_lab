{
 "cells": [
  {
   "cell_type": "code",
   "execution_count": 1,
   "id": "c89939d5-c654-4d54-b9b5-08f098864331",
   "metadata": {},
   "outputs": [],
   "source": [
    "import numpy as np \n",
    "import pandas as pd \n",
    "from ski"
   ]
  },
  {
   "cell_type": "code",
   "execution_count": null,
   "id": "41769420-15ad-492c-ba80-4cb1e91058d4",
   "metadata": {},
   "outputs": [],
   "source": []
  }
 ],
 "metadata": {
  "kernelspec": {
   "display_name": "Python 3 (ipykernel)",
   "language": "python",
   "name": "python3"
  },
  "language_info": {
   "codemirror_mode": {
    "name": "ipython",
    "version": 3
   },
   "file_extension": ".py",
   "mimetype": "text/x-python",
   "name": "python",
   "nbconvert_exporter": "python",
   "pygments_lexer": "ipython3",
   "version": "3.11.9"
  }
 },
 "nbformat": 4,
 "nbformat_minor": 5
}
